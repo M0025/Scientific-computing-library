{
 "cells": [
  {
   "cell_type": "code",
   "execution_count": 1,
   "metadata": {},
   "outputs": [
    {
     "name": "stdout",
     "output_type": "stream",
     "text": [
      "base.py file has been excuted\n"
     ]
    }
   ],
   "source": [
    "%run base.py\n",
    "# matplotlib.org    Offical webset"
   ]
  },
  {
   "cell_type": "code",
   "execution_count": 3,
   "metadata": {},
   "outputs": [
    {
     "data": {
      "text/plain": [
       "<matplotlib.legend.Legend at 0x1962ecaa9b0>"
      ]
     },
     "execution_count": 3,
     "metadata": {},
     "output_type": "execute_result"
    },
    {
     "data": {
      "image/png": "[encoded data removed]",
      "text/plain": [
       "<Figure size 432x288 with 1 Axes>"
      ]
     },
     "metadata": {},
     "output_type": "display_data"
    }
   ],
   "source": [
    "# Take 256 points evenly form -np.pi to np.pi \n",
    "X = np.linspace(-np.pi,np.pi,256, endpoint=True)\n",
    "(C, S)=np.cos(X),np.sin(X)  # C and S both are numpy ndarray tpye\n",
    "# two ways to set line style, color and line width\n",
    "plt.plot(X, C, label = 'cos', linestyle = '--')\n",
    "plt.plot(X, S, 'r-.' ,label = 'sin', lw = 2.4)\n",
    "# White space，scaling x-axis and y-axis\n",
    "plt.xlim(X.min()*1.5, X.max()*1.5)\n",
    "plt.ylim(C.min()*1.5, C.max()*1.5)  # S would be ok too\n",
    "# Change the ticklabel of x and y axises\n",
    "plt.xticks([-pi, -pi/2, 0, pi/2, pi],[r'$-\\pi$', r'$-\\pi/2$', r'$0$', r'$\\pi/2$', r'$\\pi$']) # replace\n",
    "plt.yticks([1,0,-1])\n",
    "# translation axises\n",
    "ax = plt.gca()  # Use .gca() method get present Axes object name as ax\n",
    "# set spines at right and top as none\n",
    "ax.spines['right'].set_color('none')\n",
    "ax.spines['top'].set_color('none')\n",
    "# Set x and y axises' ticks position\n",
    "ax.xaxis.set_ticks_position('bottom')\n",
    "ax.yaxis.set_ticks_position('left')\n",
    "# translation axises to origin\n",
    "ax.spines['bottom'].set_position(('data',0))  # data -> data points in coordinate system \n",
    "ax.spines['left'].set_position(('data',0))    # when moving x-axis, the second argument would be relative to the y-axis\n",
    "# spical points comment\n",
    "# t = 2*pi/3  darw a dash line from [t,0] to [t,np.sin(t)]\n",
    "t = 2*pi/3 \n",
    "plt.plot([t,t],[0,np.sin(t)],'r--')\n",
    "plt.plot([t,t],[0,np.cos(t)],'b--')\n",
    "# point a scatter here\n",
    "plt.scatter([t],[np.sin(t)], s=30, color='r')\n",
    "plt.scatter([t],[np.cos(t)], s=30, color='b')\n",
    "# add comment to[t, np.cos(t)]\n",
    "plt.annotate(r'$\\cos(\\frac{2\\pi}{3})=-\\frac{1}{2}$', # the text of the comment\n",
    "             xy = (t, np.cos(t)),         # the position of the point\n",
    "             xycoords = 'data',           #\n",
    "             xytext = (-60, -50),         # offset (relative to the point)\n",
    "             textcoords = 'offset points',\n",
    "             fontsize = 16,               # font of comment\n",
    "             arrowprops = dict(arrowstyle=\"->\",connectionstyle='arc3,rad=.2')) # connection of text and points\n",
    "plt.annotate(r'$\\sin(\\frac{2\\pi}{3})=\\frac{\\sqrt{3}}{2}$', # the text of the comment\n",
    "             xy = (t, np.sin(t)),         # the position of the point\n",
    "             xycoords = 'data',           #\n",
    "             xytext = (10, 30),           # offset (relative to the point)\n",
    "             textcoords = 'offset points',\n",
    "             fontsize = 16,               # font of comment\n",
    "             arrowprops = dict(arrowstyle=\"->\",connectionstyle='arc3,rad=.2')) # connection of text and points\n",
    "\n",
    "# Get all ticks label objects from x and y axises, and change their fonts\n",
    "for label in ax.get_xticklabels() + ax.get_yticklabels():\n",
    "    label.set_fontsize(14)  # Set fontsize of all tick labels\n",
    "plt.legend(loc='upper left')"
   ]
  },
  {
   "cell_type": "markdown",
   "metadata": {},
   "source": [
    "### Summary\n",
    "1. Use np.linspace(-np.pi,np.pi,256, endpoint=True can get data quickly\n",
    "2. Use plt.gca() to get object of present Axes, ax;\n",
    "3. Use plt.xlim() to set some white space;\n",
    "4. Use plt.xticks() and plt.yticks() to set ticks on axises;\n",
    "5. Use annotate() to add some comments to the chart;\n",
    "6. Use\n",
    "```\n",
    "for label in ax.get_xticklabels() + ax.get_yticklabels():\n",
    "``` to traverse object labels in the charts."
   ]
  },
  {
   "cell_type": "code",
   "execution_count": null,
   "metadata": {},
   "outputs": [],
   "source": []
  }
 ],
 "metadata": {
  "kernelspec": {
   "display_name": "Python 3",
   "language": "python",
   "name": "python3"
  },
  "language_info": {
   "codemirror_mode": {
    "name": "ipython",
    "version": 3
   },
   "file_extension": ".py",
   "mimetype": "text/x-python",
   "name": "python",
   "nbconvert_exporter": "python",
   "pygments_lexer": "ipython3",
   "version": "3.6.5"
  }
 },
 "nbformat": 4,
 "nbformat_minor": 2
}
